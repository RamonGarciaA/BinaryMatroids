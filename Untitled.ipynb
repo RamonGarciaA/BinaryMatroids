{
 "cells": [
  {
   "cell_type": "code",
   "execution_count": 1,
   "id": "19a88ae3",
   "metadata": {},
   "outputs": [],
   "source": [
    "###Code that, given a binary matroid finds if it has a hamilton cycle.\n",
    "\n",
    "import numpy as np\n",
    "import itertools\n",
    "\n",
    "\n"
   ]
  },
  {
   "cell_type": "code",
   "execution_count": 2,
   "id": "4eb93f2c",
   "metadata": {},
   "outputs": [],
   "source": [
    "###size of M\n",
    "m=7\n",
    "###rank=dimension\n",
    "n=7\n",
    "\n",
    "A=np.matrix([[1,1,1,1,0,0,0],[1,1,1,0,1,0,0],[1,0,0,0,1,1,1],[0,1,0,1,0,1,1],[1,0,1,0,1,1,0],[0,1,1,1,0,0,1],[0,0,0,1,1,1,1]],dtype=int)\n",
    "\n",
    "\n",
    "###This code finds all the 0,1 vectors of length M\n",
    "lst = list(itertools.product(np.array([0, 1],dtype=int), repeat=m))\n"
   ]
  },
  {
   "cell_type": "code",
   "execution_count": 3,
   "id": "f017ed97",
   "metadata": {},
   "outputs": [
    {
     "name": "stdout",
     "output_type": "stream",
     "text": [
      "Nullspace: \n",
      "(0, 0, 0, 0, 0, 0, 0)\n",
      "(1, 1, 1, 1, 1, 1, 1)\n",
      "Cycles of length  8 :\n"
     ]
    }
   ],
   "source": [
    "lst2=[]\n",
    "\n",
    "\n",
    "###tis code finds the nullspace\n",
    "print(\"Nullspace: \")\n",
    "for y in lst:\n",
    "    C=np.dot(y,A)\n",
    "    for x in range(len(C)):\n",
    "        C[x]=C[x]%2\n",
    "    a=C.sum()\n",
    "    if(a==0):\n",
    "        print(y)\n",
    "        lst2.append(y)\n",
    "\n",
    "###This code finds the cycles of lenght n+1\n",
    "lst3=[]\n",
    "print(\"Cycles of length \", n+1,\":\")\n",
    "for y in lst2:\n",
    "    z=np.array(y,dtype=int)\n",
    "    a=z.sum()\n",
    "    if(a==(n+1)):\n",
    "        lst3.append(z)\n",
    "        print(z)"
   ]
  },
  {
   "cell_type": "code",
   "execution_count": 4,
   "id": "b5a8cb81",
   "metadata": {},
   "outputs": [],
   "source": [
    "\n",
    "for y in lst3:\n",
    "    print(\"Possible first vector:\")\n",
    "    print(y)\n",
    "    print(\"Nullspace vectors it contains:\")\n",
    "    for w in lst2:\n",
    "        aux=0\n",
    "        for k in range(len(y)):\n",
    "            if(w[k]>y[k]):\n",
    "                aux=1\n",
    "        if(aux==0):\n",
    "            print(w)"
   ]
  },
  {
   "cell_type": "code",
   "execution_count": null,
   "id": "be7313f2",
   "metadata": {},
   "outputs": [],
   "source": []
  }
 ],
 "metadata": {
  "kernelspec": {
   "display_name": "Python 3 (ipykernel)",
   "language": "python",
   "name": "python3"
  },
  "language_info": {
   "codemirror_mode": {
    "name": "ipython",
    "version": 3
   },
   "file_extension": ".py",
   "mimetype": "text/x-python",
   "name": "python",
   "nbconvert_exporter": "python",
   "pygments_lexer": "ipython3",
   "version": "3.11.3"
  }
 },
 "nbformat": 4,
 "nbformat_minor": 5
}
